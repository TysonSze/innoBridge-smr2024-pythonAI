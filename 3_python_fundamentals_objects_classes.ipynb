{
  "cells": [
    {
      "cell_type": "markdown",
      "metadata": {
        "id": "KY-1fst_04Wh"
      },
      "source": [
        "## Fundamentals of Python - part 3 \n",
        "\n",
        "In the past two lectures we have covered the material about basic Python objects, operators, constructs (if-branching, for and while loops). Today we will move towards object oriented programming: how to define custom-defined objects and classes as wells as how to operate with them."
      ]
    },
    {
      "cell_type": "markdown",
      "metadata": {
        "id": "Gg63DTrR04Wp"
      },
      "source": [
        "## References\n",
        "Mark Lutz, 'Learning Python: Powerful Object-Oriented Programming', O'Reilly Media, Inc., 2013. (Chapter 4)\n",
        "\n",
        "Dane Hillard, 'Practices of the Python Pro', Manning Publications, 2020.\n",
        "\n",
        "MIT course 6.0001 (Lecture 8 and 9): https://ocw.mit.edu/courses/electrical-engineering-and-computer-science/6-0001-introduction-to-computer-science-and-programming-in-python-fall-2016/lecture-videos/"
      ]
    },
    {
      "cell_type": "markdown",
      "metadata": {
        "id": "D9Y27a4Y04Wp"
      },
      "source": [
        "### 1. EXAMPLE: simple coordinate class\n",
        "here we will define coordinate objects, e.g. (x,y): object initialization, string representation and distance calculation"
      ]
    },
    {
      "cell_type": "code",
      "execution_count": null,
      "metadata": {
        "id": "icZwZm3o04Wq"
      },
      "outputs": [],
      "source": [
        "#define the coordinates class\n",
        "\n",
        "  "
      ]
    },
    {
      "cell_type": "code",
      "execution_count": null,
      "metadata": {
        "colab": {
          "base_uri": "https://localhost:8080/"
        },
        "id": "YnWB1hVf04Ws",
        "outputId": "de8e4df1-2c6e-41d7-823e-d71cb017b11d"
      },
      "outputs": [],
      "source": [
        "#creating coordinate-class objects\n"
      ]
    },
    {
      "cell_type": "markdown",
      "metadata": {
        "id": "bwIhRqXY04Wt"
      },
      "source": [
        "### 2. EXAMPLE: simple class to represent fractions\n",
        "In this example we will define a class of fractions including methods: addition, subtraction.\n",
        "As a homework exercise add methods of multiplication, division, and fraction reduction (hint: use gcd)"
      ]
    },
    {
      "cell_type": "code",
      "execution_count": null,
      "metadata": {
        "id": "PkAleN5J04Wt"
      },
      "outputs": [],
      "source": [
        "#define the fractions class\n",
        "class fraction(object):\n",
        "    \"\"\"\n",
        "    A number represented as a fraction\n",
        "    \"\"\"\n",
        "    def __init__(self, num, denom):\n",
        "\n",
        "    def __str__(self):\n",
        "\n",
        "    def add(self, other):\n",
        "\n",
        "    def __float__(self):\n"
      ]
    },
    {
      "cell_type": "code",
      "execution_count": null,
      "metadata": {
        "colab": {
          "base_uri": "https://localhost:8080/"
        },
        "id": "5vAucl5m04Wt",
        "outputId": "32fea06c-e6e2-49d3-83c3-888d37c50051"
      },
      "outputs": [],
      "source": [
        "#creating fraction-class objects\n"
      ]
    },
    {
      "cell_type": "markdown",
      "metadata": {
        "id": "JrRUcB1M04Wu"
      },
      "source": [
        "### 3. EXAMPLE: Animal abstract data type"
      ]
    },
    {
      "cell_type": "code",
      "execution_count": null,
      "metadata": {
        "id": "tjdsAq5e04Wu"
      },
      "outputs": [],
      "source": [
        "#define the Animal class\n",
        "#adding 'setters' and 'getters'\n",
        "class Animal(object):\n",
        "  def __init__(self,age):\n",
        "    self.age = age\n",
        "    self.name = None \n",
        "\n",
        "  \n",
        "\n"
      ]
    },
    {
      "cell_type": "code",
      "execution_count": null,
      "metadata": {
        "colab": {
          "base_uri": "https://localhost:8080/"
        },
        "id": "5-sdxZsv04Wv",
        "outputId": "620b1382-cbb0-4a06-9558-e7dc28b45753"
      },
      "outputs": [],
      "source": [
        "#'Animal' tests"
      ]
    },
    {
      "cell_type": "markdown",
      "metadata": {
        "id": "7gOP6qUo04Wv"
      },
      "source": [
        "### 4. EXAMPLE: Class inheritance"
      ]
    },
    {
      "cell_type": "code",
      "execution_count": null,
      "metadata": {
        "id": "T2JSVSyo04Wv"
      },
      "outputs": [],
      "source": [
        "#define a new class 'Cat' based on earlier introduced 'Animal'\n",
        "class Cat(Animal):\n"
      ]
    },
    {
      "cell_type": "code",
      "execution_count": null,
      "metadata": {
        "colab": {
          "base_uri": "https://localhost:8080/"
        },
        "id": "tOd9fJ_J04Wv",
        "outputId": "f5f8a410-0282-4380-847f-2b9055a34043"
      },
      "outputs": [],
      "source": [
        "#'Cat' tests\n"
      ]
    },
    {
      "cell_type": "code",
      "execution_count": null,
      "metadata": {
        "id": "fxaAOemR04Wv"
      },
      "outputs": [],
      "source": [
        "#define a new subclass 'Person'\n",
        "class Person(Animal):\n",
        "\n",
        "    "
      ]
    },
    {
      "cell_type": "code",
      "execution_count": null,
      "metadata": {
        "colab": {
          "base_uri": "https://localhost:8080/"
        },
        "id": "LvVB1BJv04Wv",
        "outputId": "605a6edf-56f4-424d-fbe7-67d946effd8e"
      },
      "outputs": [],
      "source": [
        "#'Person' tests\n"
      ]
    },
    {
      "cell_type": "code",
      "execution_count": null,
      "metadata": {
        "id": "HsTjW-ZK04Ww"
      },
      "outputs": [],
      "source": [
        "import random\n",
        "#define a new subsubclass 'Student'\n",
        "class Student(Person):\n",
        "\n"
      ]
    },
    {
      "cell_type": "code",
      "execution_count": null,
      "metadata": {
        "colab": {
          "base_uri": "https://localhost:8080/"
        },
        "id": "GYA3kX5S04Ww",
        "outputId": "6bcee7b2-222d-4e60-caf9-225262a93691"
      },
      "outputs": [],
      "source": [
        "#'Student' tests\n"
      ]
    },
    {
      "cell_type": "markdown",
      "metadata": {
        "id": "49FG5MGY04Ww"
      },
      "source": [
        "### 5. EXAMPLE: Use of class variables"
      ]
    },
    {
      "cell_type": "code",
      "execution_count": null,
      "metadata": {
        "id": "csW-SPD204Ww"
      },
      "outputs": [],
      "source": [
        "#define subclass 'Rabit'\n",
        "class Rabbit(Animal):\n"
      ]
    },
    {
      "cell_type": "code",
      "execution_count": null,
      "metadata": {
        "id": "4iEerKwC04Ww"
      },
      "outputs": [],
      "source": [
        "#Rabits tests: creation\n"
      ]
    },
    {
      "cell_type": "code",
      "execution_count": null,
      "metadata": {
        "id": "AsgrwtkA04Wx"
      },
      "outputs": [],
      "source": [
        "#Rabits addition"
      ]
    },
    {
      "cell_type": "code",
      "execution_count": null,
      "metadata": {
        "id": "_J-771o704Wx"
      },
      "outputs": [],
      "source": [
        "#Rabits equality\n"
      ]
    },
    {
      "cell_type": "code",
      "execution_count": null,
      "metadata": {
        "id": "oJnxwq7604Wx"
      },
      "outputs": [],
      "source": []
    }
  ],
  "metadata": {
    "colab": {
      "name": "3_python_fundamentals_objects_classes.ipynb",
      "provenance": []
    },
    "kernelspec": {
      "display_name": "Python 3",
      "language": "python",
      "name": "python3"
    },
    "language_info": {
      "codemirror_mode": {
        "name": "ipython",
        "version": 3
      },
      "file_extension": ".py",
      "mimetype": "text/x-python",
      "name": "python",
      "nbconvert_exporter": "python",
      "pygments_lexer": "ipython3",
      "version": "3.11.7"
    }
  },
  "nbformat": 4,
  "nbformat_minor": 0
}
